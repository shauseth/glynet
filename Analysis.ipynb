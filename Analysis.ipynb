{
 "cells": [
  {
   "cell_type": "code",
   "execution_count": 1,
   "metadata": {},
   "outputs": [],
   "source": [
    "import numpy as np\n",
    "import pandas as pd\n",
    "import matplotlib.pyplot as plt\n",
    "from describe import remove_linker, get_descriptors"
   ]
  },
  {
   "cell_type": "code",
   "execution_count": 38,
   "metadata": {},
   "outputs": [
    {
     "name": "stdout",
     "output_type": "stream",
     "text": [
      "Samples ready for prediction: 66\n"
     ]
    },
    {
     "data": {
      "text/html": [
       "<div>\n",
       "<style scoped>\n",
       "    .dataframe tbody tr th:only-of-type {\n",
       "        vertical-align: middle;\n",
       "    }\n",
       "\n",
       "    .dataframe tbody tr th {\n",
       "        vertical-align: top;\n",
       "    }\n",
       "\n",
       "    .dataframe thead th {\n",
       "        text-align: right;\n",
       "    }\n",
       "</style>\n",
       "<table border=\"1\" class=\"dataframe\">\n",
       "  <thead>\n",
       "    <tr style=\"text-align: right;\">\n",
       "      <th></th>\n",
       "      <th>Sample</th>\n",
       "      <th>MSE</th>\n",
       "      <th>R-Squared</th>\n",
       "      <th>Score</th>\n",
       "      <th>cbpId</th>\n",
       "    </tr>\n",
       "  </thead>\n",
       "  <tbody>\n",
       "    <tr>\n",
       "      <th>12</th>\n",
       "      <td>PSL 200ug/ml</td>\n",
       "      <td>0.068662</td>\n",
       "      <td>0.634695</td>\n",
       "      <td>0.433967</td>\n",
       "      <td>cbp_1549</td>\n",
       "    </tr>\n",
       "    <tr>\n",
       "      <th>24</th>\n",
       "      <td>FimH 2.2ug/ml</td>\n",
       "      <td>0.174661</td>\n",
       "      <td>0.706705</td>\n",
       "      <td>0.467956</td>\n",
       "      <td>cbp_1562</td>\n",
       "    </tr>\n",
       "    <tr>\n",
       "      <th>76</th>\n",
       "      <td>AMA (EY Lab) (100ug/ml)</td>\n",
       "      <td>0.225991</td>\n",
       "      <td>0.743203</td>\n",
       "      <td>0.482788</td>\n",
       "      <td>cbp_2489</td>\n",
       "    </tr>\n",
       "    <tr>\n",
       "      <th>91</th>\n",
       "      <td>AAL (0.1ug/ml)</td>\n",
       "      <td>0.180532</td>\n",
       "      <td>0.718928</td>\n",
       "      <td>0.461604</td>\n",
       "      <td>cbp_2450</td>\n",
       "    </tr>\n",
       "    <tr>\n",
       "      <th>94</th>\n",
       "      <td>AAL (100 ug/ml)</td>\n",
       "      <td>0.202044</td>\n",
       "      <td>0.763320</td>\n",
       "      <td>0.438724</td>\n",
       "      <td>cbp_2450</td>\n",
       "    </tr>\n",
       "  </tbody>\n",
       "</table>\n",
       "</div>"
      ],
      "text/plain": [
       "                     Sample       MSE  R-Squared     Score     cbpId\n",
       "12             PSL 200ug/ml  0.068662   0.634695  0.433967  cbp_1549\n",
       "24            FimH 2.2ug/ml  0.174661   0.706705  0.467956  cbp_1562\n",
       "76  AMA (EY Lab) (100ug/ml)  0.225991   0.743203  0.482788  cbp_2489\n",
       "91           AAL (0.1ug/ml)  0.180532   0.718928  0.461604  cbp_2450\n",
       "94          AAL (100 ug/ml)  0.202044   0.763320  0.438724  cbp_2450"
      ]
     },
     "execution_count": 38,
     "metadata": {},
     "output_type": "execute_result"
    }
   ],
   "source": [
    "info_data = pd.read_csv('Data/Information.csv')\n",
    "met_data = pd.read_csv('Results/Metrics.csv')\n",
    "met_data['cbpId'] = info_data['cbpId']\n",
    "met_data = met_data[met_data['Score'] < 0.5]\n",
    "print('Samples ready for prediction:', len(met_data))\n",
    "met_data.head()"
   ]
  },
  {
   "cell_type": "code",
   "execution_count": 35,
   "metadata": {
    "scrolled": true
   },
   "outputs": [],
   "source": [
    "cbp_dict = {}\n",
    "for cbpId in sorted(set(met_data['cbpId'])):\n",
    "    cbp_data = met_data[met_data['cbpId'] == cbpId]\n",
    "    cbp_data = cbp_data.sort_values('Score')\n",
    "    cbp_dict[cbpId] = cbp_data['Sample'].tolist()"
   ]
  },
  {
   "cell_type": "code",
   "execution_count": 36,
   "metadata": {},
   "outputs": [
    {
     "data": {
      "text/plain": [
       "{'cbp_1304': ['Mouse Galectin1 (5ug/ml)', 'Mouse Galectin1 (1ug/ml)'],\n",
       " 'cbp_1549': ['PSL 200ug/ml'],\n",
       " 'cbp_1562': ['FimH 2.2ug/ml'],\n",
       " 'cbp_1622': ['P11 VP8 (20ug/ml)', 'P11 VP8 (2ug/ml)'],\n",
       " 'cbp_1716': ['WT-VCC (180ug/ml)'],\n",
       " 'cbp_2276': ['RCAI (Vector) (0.1 ug/ml)'],\n",
       " 'cbp_2281': ['SNA (5ug/ml)', 'SNA (0.5ug/ml)', 'SNA (1ug/ml)'],\n",
       " 'cbp_2445': ['LSL-150 2ug/ml', 'LSL-150 0.2ug/ml', 'LSL-150 0.02ug/ml'],\n",
       " 'cbp_2446': ['LBL-152 2ug/ml', 'LBL-152 0.2ug/ml'],\n",
       " 'cbp_2450': ['AAL (100 ug/ml)',\n",
       "  'AAL (0.1ug/ml)',\n",
       "  'AAL (1ug/ml)',\n",
       "  'AAL (10ug/ml)'],\n",
       " 'cbp_2453': ['ConA (1ug/ml)',\n",
       "  'ConA (5ug/ml)',\n",
       "  'ConA (50ug/ml)',\n",
       "  'ConA (10ug/ml)'],\n",
       " 'cbp_2455': ['DSL (1ug/ml)', 'DSL (0.1ug/ml)'],\n",
       " 'cbp_2456': ['ECL 5ug/ml'],\n",
       " 'cbp_2460': ['GSL-2 (1ug/ml)', 'GSL-2 (10ug/ml)'],\n",
       " 'cbp_2463': ['GSL-2 (1ug/ml).1', 'GSL-2 (10ug/ml).1'],\n",
       " 'cbp_2464': ['LCA (10ug/ml)', 'LCA (100 ug/ml)', 'LCA (1ug/ml)'],\n",
       " 'cbp_2471': ['PHA-E (100ug/ml)', 'PHA-E (10ug/ml)', 'PHA-E (1ug/ml)'],\n",
       " 'cbp_2472': ['PHA-L (100ug/ml)', 'PHA-L (10ug/ml)'],\n",
       " 'cbp_2474': ['PSA 10ug/ml', 'PSA 100ug/ml', 'PSA 1ug/ml'],\n",
       " 'cbp_2480': ['SJA 100ug/ml'],\n",
       " 'cbp_2489': ['AMA (EY Lab) (100ug/ml)'],\n",
       " 'cbp_2493': ['CA 100ug/ml', 'CA 10ug/ml'],\n",
       " 'cbp_2506': ['GS-II (EY Lab) (10ug/ml)', 'GS-II(EYLab) (100ug/ml)'],\n",
       " 'cbp_2507': ['GNA(EYLab) (100ug/ml)'],\n",
       " 'cbp_2509': ['HHA(EYLab) (100ug/ml)', 'HHA(EY Lab) (10ug/ml)'],\n",
       " 'cbp_2511': ['LcH (10ug/ml)', 'LcH (100ug/ml)'],\n",
       " 'cbp_2522': ['PSL 10ug/ml', 'PSL 100ug/ml'],\n",
       " 'cbp_2524': ['RPA (100ug/ml)'],\n",
       " 'cbp_2531': ['TL(EY Lab) (100ug/ml)'],\n",
       " 'cbp_2541': ['CAA 10ug/ml', 'CAA 100ug/ml', 'CAA 1ug/ml'],\n",
       " 'cbp_2550': ['TJA-I 10ug/ml'],\n",
       " 'cbp_2552': ['AOL (Mahal Lab) (0.1ug/ml)', 'AOL (Mahal Lab) (1ug/ml)'],\n",
       " 'cbp_2554': ['ConA 10ug/ml',\n",
       "  'ConA 1ug/ml',\n",
       "  'ConA 100ug/ml ',\n",
       "  'ConA 0.5ug/ml',\n",
       "  'ConA 50ug/ml'],\n",
       " 'cbp_2560': ['PHA-L (100ug/ml).1'],\n",
       " 'cbp_2571': ['EUL S2 WT (200ug/ml)'],\n",
       " 'cbp_2600': ['GST-P(11)VP8* (20ug/ml)', 'GST-P(11)VP8* (200ug/ml)'],\n",
       " 'cbp_2602': ['AHL (200ug/ml)', 'AHL (10ug/ml)'],\n",
       " 'cbp_2703': ['SGA (200ug/ml)', 'SGA (10ug/ml)'],\n",
       " 'cbp_2766': ['WT (50ug/ml)', 'WT (200ug/ml)'],\n",
       " 'cbp_2789': ['MNA-M (50ug/ml)', 'MNA-M (100ug/ml)'],\n",
       " 'cbp_2797': ['EPa9 (200ug/ml)'],\n",
       " 'cbp_hum_Stlect_00116': ['Galectin-1 (20ug/ml)', 'Human Galectin1 (1ug/ml)'],\n",
       " 'cbp_hum_Stlect_00118': ['Gal-3C (20ug/ml)', 'Gal-3C (2ug/ml)']}"
      ]
     },
     "execution_count": 36,
     "metadata": {},
     "output_type": "execute_result"
    }
   ],
   "source": [
    "cbp_dict"
   ]
  },
  {
   "cell_type": "code",
   "execution_count": null,
   "metadata": {},
   "outputs": [],
   "source": []
  }
 ],
 "metadata": {
  "kernelspec": {
   "display_name": "Python 3",
   "language": "python",
   "name": "python3"
  },
  "language_info": {
   "codemirror_mode": {
    "name": "ipython",
    "version": 3
   },
   "file_extension": ".py",
   "mimetype": "text/x-python",
   "name": "python",
   "nbconvert_exporter": "python",
   "pygments_lexer": "ipython3",
   "version": "3.7.3"
  }
 },
 "nbformat": 4,
 "nbformat_minor": 2
}
